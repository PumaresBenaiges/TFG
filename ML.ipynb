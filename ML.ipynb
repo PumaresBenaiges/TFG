{
  "nbformat": 4,
  "nbformat_minor": 0,
  "metadata": {
    "colab": {
      "provenance": []
    },
    "kernelspec": {
      "name": "python3",
      "display_name": "Python 3"
    },
    "language_info": {
      "name": "python"
    },
    "widgets": {
      "application/vnd.jupyter.widget-state+json": {
        "205eb539d8144a529acd75141fbf4bbb": {
          "model_module": "@jupyter-widgets/controls",
          "model_name": "HBoxModel",
          "model_module_version": "1.5.0",
          "state": {
            "_dom_classes": [],
            "_model_module": "@jupyter-widgets/controls",
            "_model_module_version": "1.5.0",
            "_model_name": "HBoxModel",
            "_view_count": null,
            "_view_module": "@jupyter-widgets/controls",
            "_view_module_version": "1.5.0",
            "_view_name": "HBoxView",
            "box_style": "",
            "children": [
              "IPY_MODEL_9c8eab81a62942ddb308f56d103989a8",
              "IPY_MODEL_55fe29b7807a4604a290f768d26f7d18",
              "IPY_MODEL_083c8ba6e33a413fbd61ef8ce3c2efd3"
            ],
            "layout": "IPY_MODEL_8fb38d9f041b49bd90ce7e89ffbd9964"
          }
        },
        "9c8eab81a62942ddb308f56d103989a8": {
          "model_module": "@jupyter-widgets/controls",
          "model_name": "HTMLModel",
          "model_module_version": "1.5.0",
          "state": {
            "_dom_classes": [],
            "_model_module": "@jupyter-widgets/controls",
            "_model_module_version": "1.5.0",
            "_model_name": "HTMLModel",
            "_view_count": null,
            "_view_module": "@jupyter-widgets/controls",
            "_view_module_version": "1.5.0",
            "_view_name": "HTMLView",
            "description": "",
            "description_tooltip": null,
            "layout": "IPY_MODEL_a26f932ec3484587afc9518159098130",
            "placeholder": "​",
            "style": "IPY_MODEL_ad834c6ea00a498b85535085d5351224",
            "value": "100%"
          }
        },
        "55fe29b7807a4604a290f768d26f7d18": {
          "model_module": "@jupyter-widgets/controls",
          "model_name": "FloatProgressModel",
          "model_module_version": "1.5.0",
          "state": {
            "_dom_classes": [],
            "_model_module": "@jupyter-widgets/controls",
            "_model_module_version": "1.5.0",
            "_model_name": "FloatProgressModel",
            "_view_count": null,
            "_view_module": "@jupyter-widgets/controls",
            "_view_module_version": "1.5.0",
            "_view_name": "ProgressView",
            "bar_style": "success",
            "description": "",
            "description_tooltip": null,
            "layout": "IPY_MODEL_d7de8b65873443e28760643efc27c905",
            "max": 2,
            "min": 0,
            "orientation": "horizontal",
            "style": "IPY_MODEL_c4960e6f1e664975b09ca9f0cf9a4792",
            "value": 2
          }
        },
        "083c8ba6e33a413fbd61ef8ce3c2efd3": {
          "model_module": "@jupyter-widgets/controls",
          "model_name": "HTMLModel",
          "model_module_version": "1.5.0",
          "state": {
            "_dom_classes": [],
            "_model_module": "@jupyter-widgets/controls",
            "_model_module_version": "1.5.0",
            "_model_name": "HTMLModel",
            "_view_count": null,
            "_view_module": "@jupyter-widgets/controls",
            "_view_module_version": "1.5.0",
            "_view_name": "HTMLView",
            "description": "",
            "description_tooltip": null,
            "layout": "IPY_MODEL_e347987a9df849fca508ad26c630f834",
            "placeholder": "​",
            "style": "IPY_MODEL_067e81d064ee4a08bf9b1d99025a1044",
            "value": " 2/2 [00:00&lt;00:00, 36.47it/s]"
          }
        },
        "8fb38d9f041b49bd90ce7e89ffbd9964": {
          "model_module": "@jupyter-widgets/base",
          "model_name": "LayoutModel",
          "model_module_version": "1.2.0",
          "state": {
            "_model_module": "@jupyter-widgets/base",
            "_model_module_version": "1.2.0",
            "_model_name": "LayoutModel",
            "_view_count": null,
            "_view_module": "@jupyter-widgets/base",
            "_view_module_version": "1.2.0",
            "_view_name": "LayoutView",
            "align_content": null,
            "align_items": null,
            "align_self": null,
            "border": null,
            "bottom": null,
            "display": null,
            "flex": null,
            "flex_flow": null,
            "grid_area": null,
            "grid_auto_columns": null,
            "grid_auto_flow": null,
            "grid_auto_rows": null,
            "grid_column": null,
            "grid_gap": null,
            "grid_row": null,
            "grid_template_areas": null,
            "grid_template_columns": null,
            "grid_template_rows": null,
            "height": null,
            "justify_content": null,
            "justify_items": null,
            "left": null,
            "margin": null,
            "max_height": null,
            "max_width": null,
            "min_height": null,
            "min_width": null,
            "object_fit": null,
            "object_position": null,
            "order": null,
            "overflow": null,
            "overflow_x": null,
            "overflow_y": null,
            "padding": null,
            "right": null,
            "top": null,
            "visibility": null,
            "width": null
          }
        },
        "a26f932ec3484587afc9518159098130": {
          "model_module": "@jupyter-widgets/base",
          "model_name": "LayoutModel",
          "model_module_version": "1.2.0",
          "state": {
            "_model_module": "@jupyter-widgets/base",
            "_model_module_version": "1.2.0",
            "_model_name": "LayoutModel",
            "_view_count": null,
            "_view_module": "@jupyter-widgets/base",
            "_view_module_version": "1.2.0",
            "_view_name": "LayoutView",
            "align_content": null,
            "align_items": null,
            "align_self": null,
            "border": null,
            "bottom": null,
            "display": null,
            "flex": null,
            "flex_flow": null,
            "grid_area": null,
            "grid_auto_columns": null,
            "grid_auto_flow": null,
            "grid_auto_rows": null,
            "grid_column": null,
            "grid_gap": null,
            "grid_row": null,
            "grid_template_areas": null,
            "grid_template_columns": null,
            "grid_template_rows": null,
            "height": null,
            "justify_content": null,
            "justify_items": null,
            "left": null,
            "margin": null,
            "max_height": null,
            "max_width": null,
            "min_height": null,
            "min_width": null,
            "object_fit": null,
            "object_position": null,
            "order": null,
            "overflow": null,
            "overflow_x": null,
            "overflow_y": null,
            "padding": null,
            "right": null,
            "top": null,
            "visibility": null,
            "width": null
          }
        },
        "ad834c6ea00a498b85535085d5351224": {
          "model_module": "@jupyter-widgets/controls",
          "model_name": "DescriptionStyleModel",
          "model_module_version": "1.5.0",
          "state": {
            "_model_module": "@jupyter-widgets/controls",
            "_model_module_version": "1.5.0",
            "_model_name": "DescriptionStyleModel",
            "_view_count": null,
            "_view_module": "@jupyter-widgets/base",
            "_view_module_version": "1.2.0",
            "_view_name": "StyleView",
            "description_width": ""
          }
        },
        "d7de8b65873443e28760643efc27c905": {
          "model_module": "@jupyter-widgets/base",
          "model_name": "LayoutModel",
          "model_module_version": "1.2.0",
          "state": {
            "_model_module": "@jupyter-widgets/base",
            "_model_module_version": "1.2.0",
            "_model_name": "LayoutModel",
            "_view_count": null,
            "_view_module": "@jupyter-widgets/base",
            "_view_module_version": "1.2.0",
            "_view_name": "LayoutView",
            "align_content": null,
            "align_items": null,
            "align_self": null,
            "border": null,
            "bottom": null,
            "display": null,
            "flex": null,
            "flex_flow": null,
            "grid_area": null,
            "grid_auto_columns": null,
            "grid_auto_flow": null,
            "grid_auto_rows": null,
            "grid_column": null,
            "grid_gap": null,
            "grid_row": null,
            "grid_template_areas": null,
            "grid_template_columns": null,
            "grid_template_rows": null,
            "height": null,
            "justify_content": null,
            "justify_items": null,
            "left": null,
            "margin": null,
            "max_height": null,
            "max_width": null,
            "min_height": null,
            "min_width": null,
            "object_fit": null,
            "object_position": null,
            "order": null,
            "overflow": null,
            "overflow_x": null,
            "overflow_y": null,
            "padding": null,
            "right": null,
            "top": null,
            "visibility": null,
            "width": null
          }
        },
        "c4960e6f1e664975b09ca9f0cf9a4792": {
          "model_module": "@jupyter-widgets/controls",
          "model_name": "ProgressStyleModel",
          "model_module_version": "1.5.0",
          "state": {
            "_model_module": "@jupyter-widgets/controls",
            "_model_module_version": "1.5.0",
            "_model_name": "ProgressStyleModel",
            "_view_count": null,
            "_view_module": "@jupyter-widgets/base",
            "_view_module_version": "1.2.0",
            "_view_name": "StyleView",
            "bar_color": null,
            "description_width": ""
          }
        },
        "e347987a9df849fca508ad26c630f834": {
          "model_module": "@jupyter-widgets/base",
          "model_name": "LayoutModel",
          "model_module_version": "1.2.0",
          "state": {
            "_model_module": "@jupyter-widgets/base",
            "_model_module_version": "1.2.0",
            "_model_name": "LayoutModel",
            "_view_count": null,
            "_view_module": "@jupyter-widgets/base",
            "_view_module_version": "1.2.0",
            "_view_name": "LayoutView",
            "align_content": null,
            "align_items": null,
            "align_self": null,
            "border": null,
            "bottom": null,
            "display": null,
            "flex": null,
            "flex_flow": null,
            "grid_area": null,
            "grid_auto_columns": null,
            "grid_auto_flow": null,
            "grid_auto_rows": null,
            "grid_column": null,
            "grid_gap": null,
            "grid_row": null,
            "grid_template_areas": null,
            "grid_template_columns": null,
            "grid_template_rows": null,
            "height": null,
            "justify_content": null,
            "justify_items": null,
            "left": null,
            "margin": null,
            "max_height": null,
            "max_width": null,
            "min_height": null,
            "min_width": null,
            "object_fit": null,
            "object_position": null,
            "order": null,
            "overflow": null,
            "overflow_x": null,
            "overflow_y": null,
            "padding": null,
            "right": null,
            "top": null,
            "visibility": null,
            "width": null
          }
        },
        "067e81d064ee4a08bf9b1d99025a1044": {
          "model_module": "@jupyter-widgets/controls",
          "model_name": "DescriptionStyleModel",
          "model_module_version": "1.5.0",
          "state": {
            "_model_module": "@jupyter-widgets/controls",
            "_model_module_version": "1.5.0",
            "_model_name": "DescriptionStyleModel",
            "_view_count": null,
            "_view_module": "@jupyter-widgets/base",
            "_view_module_version": "1.2.0",
            "_view_name": "StyleView",
            "description_width": ""
          }
        }
      }
    }
  },
  "cells": [
    {
      "cell_type": "markdown",
      "source": [
        "# Text Classification with TREC dataset\n",
        "# using **Machine Learning Models**"
      ],
      "metadata": {
        "id": "NTAoeE_GsoVB"
      }
    },
    {
      "cell_type": "markdown",
      "source": [
        "## Library instalation and importation"
      ],
      "metadata": {
        "id": "IlVhWKEclOTi"
      }
    },
    {
      "cell_type": "code",
      "source": [
        "!pip install datasets"
      ],
      "metadata": {
        "id": "YUEomLE7of2y"
      },
      "execution_count": null,
      "outputs": []
    },
    {
      "cell_type": "code",
      "execution_count": null,
      "metadata": {
        "id": "JMrNeNmCoaCu"
      },
      "outputs": [],
      "source": [
        "import pandas as pd\n",
        "import numpy as np\n",
        "import tensorflow as tf\n",
        "import timeit\n",
        "import string\n",
        "import seaborn as sns \n",
        "import matplotlib.pyplot as plt\n",
        "from datasets import load_dataset\n",
        "\n",
        "from sklearn.feature_extraction.text import TfidfVectorizer, TfidfTransformer\n",
        "from sklearn.model_selection import GridSearchCV, cross_val_score \n",
        "\n",
        "# Models\n",
        "from sklearn.linear_model import LogisticRegression, Perceptron, SGDClassifier\n",
        "from sklearn.naive_bayes import MultinomialNB, GaussianNB\n",
        "from sklearn.tree import DecisionTreeClassifier\n",
        "from sklearn.neighbors import KNeighborsClassifier\n",
        "from sklearn.ensemble import RandomForestClassifier, BaggingClassifier, AdaBoostClassifier, GradientBoostingClassifier\n",
        "from sklearn.svm import LinearSVC\n",
        "\n",
        "# Metrics\n",
        "from sklearn.metrics import confusion_matrix, classification_report\n"
      ]
    },
    {
      "cell_type": "markdown",
      "source": [
        "## Load data "
      ],
      "metadata": {
        "id": "xOuA3n6AtM2H"
      }
    },
    {
      "cell_type": "code",
      "source": [
        "from datasets import load_dataset\n",
        "df = load_dataset(\"trec\")"
      ],
      "metadata": {
        "colab": {
          "base_uri": "https://localhost:8080/",
          "height": 66,
          "referenced_widgets": [
            "205eb539d8144a529acd75141fbf4bbb",
            "9c8eab81a62942ddb308f56d103989a8",
            "55fe29b7807a4604a290f768d26f7d18",
            "083c8ba6e33a413fbd61ef8ce3c2efd3",
            "8fb38d9f041b49bd90ce7e89ffbd9964",
            "a26f932ec3484587afc9518159098130",
            "ad834c6ea00a498b85535085d5351224",
            "d7de8b65873443e28760643efc27c905",
            "c4960e6f1e664975b09ca9f0cf9a4792",
            "e347987a9df849fca508ad26c630f834",
            "067e81d064ee4a08bf9b1d99025a1044"
          ]
        },
        "id": "gR741Aynof5p",
        "outputId": "38eb8193-e707-4261-c4b8-1c69ad7513dd"
      },
      "execution_count": null,
      "outputs": [
        {
          "output_type": "stream",
          "name": "stderr",
          "text": [
            "WARNING:datasets.builder:Found cached dataset trec (/root/.cache/huggingface/datasets/trec/default/2.0.0/f2469cab1b5fceec7249fda55360dfdbd92a7a5b545e91ea0f78ad108ffac1c2)\n"
          ]
        },
        {
          "output_type": "display_data",
          "data": {
            "text/plain": [
              "  0%|          | 0/2 [00:00<?, ?it/s]"
            ],
            "application/vnd.jupyter.widget-view+json": {
              "version_major": 2,
              "version_minor": 0,
              "model_id": "205eb539d8144a529acd75141fbf4bbb"
            }
          },
          "metadata": {}
        }
      ]
    },
    {
      "cell_type": "markdown",
      "source": [
        "## Function to plot a confusion matrix"
      ],
      "metadata": {
        "id": "9FkjEwuxmS1T"
      }
    },
    {
      "cell_type": "code",
      "source": [
        "def plot_confusion_matrix(y_true, y_pred, plot_title='Confusion Matrix'):\n",
        "    cm = confusion_matrix(y_true, y_pred)\n",
        "    fig, ax = plt.subplots()\n",
        "    im = ax.imshow(cm, interpolation='nearest', cmap=plt.cm.Blues)\n",
        "    ax.set(xticks=np.arange(cm.shape[1]), yticks=np.arange(cm.shape[0]),\n",
        "           xticklabels=['ABBR', 'ENTY', 'DESC', 'HUM', 'LOC', 'NUM'],\n",
        "           yticklabels=['ABBR', 'ENTY', 'DESC', 'HUM', 'LOC', 'NUM'],\n",
        "           title=plot_title, ylabel='Categoria real', xlabel='Categoria predita')\n",
        "    plt.setp(ax.get_xticklabels(), rotation=45, ha=\"right\",\n",
        "             rotation_mode=\"anchor\")\n",
        "    for i in range(cm.shape[0]):\n",
        "        for j in range(cm.shape[1]):\n",
        "            ax.text(j, i, format(cm[i, j], 'd'),\n",
        "                    ha=\"center\", va=\"center\",\n",
        "                    color=\"white\" if cm[i, j] > cm.max() / 2. else \"black\")\n",
        "    fig.tight_layout()\n",
        "    plt.show()\n",
        "\n",
        "    cm_normalized = cm.astype('float') / cm.sum(axis=1)[:, np.newaxis] \n",
        "    fig, ax = plt.subplots()\n",
        "    im = ax.imshow(cm_normalized, interpolation='nearest', cmap=plt.cm.Blues)\n",
        "    ax.set(xticks=np.arange(cm_normalized.shape[1]),\n",
        "           yticks=np.arange(cm_normalized.shape[0]),\n",
        "           xticklabels=['ABBR', 'ENTY', 'DESC', 'HUM', 'LOC', 'NUM'],\n",
        "           yticklabels=['ABBR', 'ENTY', 'DESC', 'HUM', 'LOC', 'NUM'],\n",
        "           title=plot_title, ylabel='Categoria real', xlabel='Categoria predita')\n",
        "\n",
        "    plt.setp(ax.get_xticklabels(), rotation=45, ha=\"right\", rotation_mode=\"anchor\")\n",
        "\n",
        "    for i in range(cm_normalized.shape[0]):\n",
        "        for j in range(cm_normalized.shape[1]):\n",
        "            ax.text(j, i, format(cm_normalized[i, j], '.0%'),  # Display percentages with 2 decimal places\n",
        "                    ha=\"center\", va=\"center\",\n",
        "                    color=\"white\" if cm_normalized[i, j] > cm_normalized.max() / 2. else \"black\")\n",
        "\n",
        "    fig.tight_layout()\n",
        "    plt.show()"
      ],
      "metadata": {
        "id": "2f-KM4yNmPeZ"
      },
      "execution_count": null,
      "outputs": []
    },
    {
      "cell_type": "markdown",
      "source": [
        "## Functions to preproces the dataset"
      ],
      "metadata": {
        "id": "LwFHnIJcntBc"
      }
    },
    {
      "cell_type": "code",
      "source": [
        "# Function to clean text\n",
        "def clean_text(text):\n",
        "  text = text.lower()\n",
        "  text = text.translate(str.maketrans('', '', string.punctuation))\n",
        "  return text\n",
        "\n",
        "# Function to vectorize text using sklearn\n",
        "def vectorize1(X):\n",
        "  # Create the encoder\n",
        "  tfidf = TfidfVectorizer(sublinear_tf=True, min_df=5, ngram_range=(1,1), stop_words='english')\n",
        "\n",
        "  # Encode train and test\n",
        "  X_train = tfidf.fit_transform(X[:5452]).toarray()\n",
        "  X_test = tfidf.transform(X[5452:]).toarray()\n",
        "\n",
        "  return X_train, X_test\n",
        "  \n",
        "# Function to vectorize text using tensorflow\n",
        "def vectorize2(X, y_train,vocab_size=8604):\n",
        "\n",
        "  # Create the encoder with train data\n",
        "  train_dataset = tf.data.Dataset.from_tensor_slices((X[:5452], y_train))\n",
        "  encoder = tf.keras.layers.TextVectorization(max_tokens=vocab_size)\n",
        "  encoder.adapt(train_dataset.map(lambda text, label: text))\n",
        "\n",
        "  # Encode and pad Train\n",
        "  X_train = []\n",
        "  for row in X[:5452]:\n",
        "    X_train.append(encoder(row).numpy())\n",
        "  max_len = max([len(x) for x in X_train])\n",
        "  X_train = [np.pad(x, (0, max_len - len(x)), 'constant') for x in X_train]\n",
        "\n",
        "  # Encode and pad Test\n",
        "  X_test = []\n",
        "  for row in X[5452:]:\n",
        "    X_test.append(encoder(row).numpy())\n",
        "  X_test = [np.pad(x, (0, max_len - len(x)), 'constant') for x in X_test]\n",
        "\n",
        "  return X_train, X_test\n",
        "\n",
        "# Function to preprocess and vectorize dataset\n",
        "def preprocess(df, label='coarse_label', vectorize=True):\n",
        "\n",
        "  y_train = df['train'][label]\n",
        "  y_test = df['test'][label]\n",
        "  X = df['train']['text'] + df['test']['text']\n",
        "\n",
        "  X_cleaned = []\n",
        "  for sentence in X:\n",
        "      X_cleaned.append(clean_text(sentence))\n",
        "      print(X_cleaned)\n",
        "  if vectorize:\n",
        "    X_train, X_test = vectorize1(X_cleaned)\n",
        "  else:\n",
        "    X_train, X_test = vectorize2(X_cleaned, y_train)\n",
        "\n",
        "  return X_train, y_train, X_test, y_test"
      ],
      "metadata": {
        "id": "cCa5yN0KBmFi"
      },
      "execution_count": null,
      "outputs": []
    },
    {
      "cell_type": "markdown",
      "source": [
        "## Function for trainning and evaluating a model"
      ],
      "metadata": {
        "id": "Ge-ELdkkoeeG"
      }
    },
    {
      "cell_type": "code",
      "source": [
        "def train_and_evaluate_model(model, X_train, y_train, X_test, y_test, cf=False):\n",
        "    start = timeit.default_timer()\n",
        "    model.fit(X_train, y_train)\n",
        "    stop = timeit.default_timer()\n",
        "    print(model.__class__.__name__)\n",
        "    print('Time: ', round(stop - start, 3))  \n",
        "    print('Acc:  ', model.score(X_test, y_test))\n",
        "    print()\n",
        "    y_pred = model.predict(X_test)\n",
        "    if cf:\n",
        "      plot_confusion_matrix(y_test, y_pred, 'Matriu de Confusió SGDClassifier')#model.__class__.__name__)"
      ],
      "metadata": {
        "id": "Dl1D7FwDocb8"
      },
      "execution_count": null,
      "outputs": []
    },
    {
      "cell_type": "markdown",
      "source": [
        "## Preprocess the data and train diferent models"
      ],
      "metadata": {
        "id": "yS4ELbQMlNjY"
      }
    },
    {
      "cell_type": "code",
      "source": [
        "X_train, y_train, X_test, y_test = preprocess(df, 'coarse_label')"
      ],
      "metadata": {
        "id": "SH_XWjXl0OHa",
        "colab": {
          "base_uri": "https://localhost:8080/"
        },
        "outputId": "c56ad826-3e73-48d3-81f6-8922c0228ea0"
      },
      "execution_count": null,
      "outputs": [
        {
          "output_type": "stream",
          "name": "stderr",
          "text": [
            "IOPub data rate exceeded.\n",
            "The notebook server will temporarily stop sending output\n",
            "to the client in order to avoid crashing it.\n",
            "To change this limit, set the config variable\n",
            "`--NotebookApp.iopub_data_rate_limit`.\n",
            "\n",
            "Current values:\n",
            "NotebookApp.iopub_data_rate_limit=1000000.0 (bytes/sec)\n",
            "NotebookApp.rate_limit_window=3.0 (secs)\n",
            "\n"
          ]
        }
      ]
    },
    {
      "cell_type": "code",
      "source": [
        "models = [\n",
        "    RandomForestClassifier(max_depth= 7,max_features= 10,min_samples_split= 8,n_estimators= 100),\n",
        "    DecisionTreeClassifier(random_state=0, max_depth=7),\n",
        "    GradientBoostingClassifier(n_estimators=100, learning_rate=1.0, max_depth=1, random_state=0),\n",
        "    LinearSVC(C= 0.5, loss='squared_hinge', max_iter= 100, multi_class= 'ovr', penalty='l2', tol= 0.001), \n",
        "    Perceptron(alpha= 0.0001, l1_ratio= 0.05,max_iter= 800,n_iter_no_change= 2,penalty= 'elasticnet',tol = 0.01,validation_fraction = 0.1),\n",
        "    KNeighborsClassifier(n_neighbors=6), # molt rapid acc mitj 0.6\n",
        "    SGDClassifier(alpha= 0.001,epsilon= 0.01,l1_ratio= 0.15,loss= 'hinge',max_iter= 1000,n_iter_no_change= 8,penalty= 'l2',validation_fraction = 0.2),\n",
        "    LogisticRegression(C=2.0, fit_intercept=True, penalty='l2', tol=0.001, max_iter=500),  \n",
        "    BaggingClassifier(KNeighborsClassifier(n_neighbors=3), max_samples=0.5, max_features=0.5), \n",
        "    ]"
      ],
      "metadata": {
        "id": "DpHsiOq_oGV7"
      },
      "execution_count": null,
      "outputs": []
    },
    {
      "cell_type": "code",
      "source": [
        "for model in models:\n",
        "  train_and_evaluate_model(model, X_train, y_train, X_test, y_test)"
      ],
      "metadata": {
        "colab": {
          "base_uri": "https://localhost:8080/"
        },
        "id": "i2BAr7K1of_a",
        "outputId": "bd467817-8f16-4534-adf8-8bb04813e309"
      },
      "execution_count": null,
      "outputs": [
        {
          "output_type": "stream",
          "name": "stdout",
          "text": [
            "RandomForestClassifier\n",
            "Time:  0.596\n",
            "Acc:   0.316\n",
            "\n",
            "DecisionTreeClassifier\n",
            "Time:  0.406\n",
            "Acc:   0.206\n",
            "\n",
            "GradientBoostingClassifier\n",
            "Time:  48.337\n",
            "Acc:   0.634\n",
            "\n",
            "LinearSVC\n",
            "Time:  0.149\n",
            "Acc:   0.708\n",
            "\n",
            "Perceptron\n",
            "Time:  1.748\n",
            "Acc:   0.528\n",
            "\n",
            "KNeighborsClassifier\n",
            "Time:  0.015\n",
            "Acc:   0.59\n",
            "\n",
            "SGDClassifier\n",
            "Time:  1.757\n",
            "Acc:   0.716\n",
            "\n",
            "LogisticRegression\n",
            "Time:  10.008\n",
            "Acc:   0.706\n",
            "\n",
            "BaggingClassifier\n",
            "Time:  0.346\n",
            "Acc:   0.628\n",
            "\n"
          ]
        }
      ]
    },
    {
      "cell_type": "code",
      "source": [
        "train_and_evaluate_model(models[6], X_train, y_train, X_test, y_test, True)"
      ],
      "metadata": {
        "colab": {
          "base_uri": "https://localhost:8080/",
          "height": 1000
        },
        "id": "oaiu-NGrnRr0",
        "outputId": "15a2c9ea-0bcb-46eb-ca95-029df1e7b590"
      },
      "execution_count": null,
      "outputs": [
        {
          "output_type": "stream",
          "name": "stdout",
          "text": [
            "SGDClassifier\n",
            "Time:  3.145\n",
            "Acc:   0.728\n",
            "\n"
          ]
        },
        {
          "output_type": "display_data",
          "data": {
            "text/plain": [
              "<Figure size 640x480 with 1 Axes>"
            ],
            "image/png": "[encoded data removed]"
          },
          "metadata": {}
        },
        {
          "output_type": "display_data",
          "data": {
            "text/plain": [
              "<Figure size 640x480 with 1 Axes>"
            ],
            "image/png": "[encoded data removed]"
          },
          "metadata": {}
        }
      ]
    },
    {
      "cell_type": "markdown",
      "source": [
        "## Cross Validation"
      ],
      "metadata": {
        "id": "XoX0TZTFl876"
      }
    },
    {
      "cell_type": "code",
      "source": [
        "CV = 5\n",
        "cv_df = pd.DataFrame(index=range(CV * len(models)))\n",
        "\n",
        "entries = []\n",
        "for model in models:\n",
        "  model_name = model.__class__.__name__\n",
        "  print(model_name)\n",
        "  accuracies = cross_val_score(model, X_train, y_train, scoring='accuracy', cv=CV)\n",
        "  print(accuracies)\n",
        "  \n",
        "  for fold_idx, accuracy in enumerate(accuracies):\n",
        "    entries.append((model_name, fold_idx, accuracy))\n",
        "    \n",
        "cv_df = pd.DataFrame(entries, columns=['model_name', 'fold_idx', 'accuracy'])"
      ],
      "metadata": {
        "id": "qF13KZ85ogCC",
        "colab": {
          "base_uri": "https://localhost:8080/"
        },
        "outputId": "97025929-8c36-4db7-ced4-2767d2320a33"
      },
      "execution_count": null,
      "outputs": [
        {
          "output_type": "stream",
          "name": "stdout",
          "text": [
            "RandomForestClassifier\n",
            "[0.37855179 0.38588451 0.42110092 0.38165138 0.39082569]\n",
            "DecisionTreeClassifier\n",
            "[0.31530706 0.30614115 0.30275229 0.30825688 0.30642202]\n",
            "GradientBoostingClassifier\n",
            "[0.55820348 0.56186984 0.53577982 0.5587156  0.5440367 ]\n",
            "LinearSVC\n",
            "[0.65719523 0.659945   0.62110092 0.63394495 0.62201835]\n",
            "Perceptron\n",
            "[0.49495875 0.40696609 0.48165138 0.54311927 0.48715596]\n",
            "KNeighborsClassifier\n",
            "[0.46012832 0.47112741 0.44220183 0.46880734 0.45504587]\n",
            "SGDClassifier\n",
            "[0.64069661 0.65719523 0.62752294 0.61926606 0.62201835]\n",
            "LogisticRegression\n",
            "[0.64711274 0.64619615 0.62477064 0.63394495 0.62201835]\n",
            "BaggingClassifier\n",
            "[0.54995417 0.56736939 0.5733945  0.51559633 0.54220183]\n"
          ]
        }
      ]
    },
    {
      "cell_type": "code",
      "source": [
        "mean_accuracy = cv_df.groupby('model_name').accuracy.mean()\n",
        "std_accuracy = cv_df.groupby('model_name').accuracy.std()\n",
        "\n",
        "acc = pd.concat([mean_accuracy, std_accuracy], axis= 1, \n",
        "          ignore_index=True)\n",
        "acc.columns = ['Mean Accuracy', 'Standard deviation']\n",
        "acc"
      ],
      "metadata": {
        "colab": {
          "base_uri": "https://localhost:8080/",
          "height": 363
        },
        "id": "hWxjH0J7ogFE",
        "outputId": "983ef668-8b6e-4189-d328-af6bc66a2790"
      },
      "execution_count": null,
      "outputs": [
        {
          "output_type": "execute_result",
          "data": {
            "text/plain": [
              "                            Mean Accuracy  Standard deviation\n",
              "model_name                                                   \n",
              "BaggingClassifier                0.549703            0.022875\n",
              "DecisionTreeClassifier           0.307776            0.004655\n",
              "GradientBoostingClassifier       0.551721            0.011260\n",
              "KNeighborsClassifier             0.459462            0.011633\n",
              "LinearSVC                        0.638841            0.018735\n",
              "LogisticRegression               0.634809            0.011685\n",
              "Perceptron                       0.482770            0.048881\n",
              "RandomForestClassifier           0.391603            0.017123\n",
              "SGDClassifier                    0.633340            0.015679"
            ],
            "text/html": [
              "\n",
              "  <div id=\"df-e8deb574-8d1b-491a-8716-57d910e889da\">\n",
              "    <div class=\"colab-df-container\">\n",
              "      <div>\n",
              "<style scoped>\n",
              "    .dataframe tbody tr th:only-of-type {\n",
              "        vertical-align: middle;\n",
              "    }\n",
              "\n",
              "    .dataframe tbody tr th {\n",
              "        vertical-align: top;\n",
              "    }\n",
              "\n",
              "    .dataframe thead th {\n",
              "        text-align: right;\n",
              "    }\n",
              "</style>\n",
              "<table border=\"1\" class=\"dataframe\">\n",
              "  <thead>\n",
              "    <tr style=\"text-align: right;\">\n",
              "      <th></th>\n",
              "      <th>Mean Accuracy</th>\n",
              "      <th>Standard deviation</th>\n",
              "    </tr>\n",
              "    <tr>\n",
              "      <th>model_name</th>\n",
              "      <th></th>\n",
              "      <th></th>\n",
              "    </tr>\n",
              "  </thead>\n",
              "  <tbody>\n",
              "    <tr>\n",
              "      <th>BaggingClassifier</th>\n",
              "      <td>0.549703</td>\n",
              "      <td>0.022875</td>\n",
              "    </tr>\n",
              "    <tr>\n",
              "      <th>DecisionTreeClassifier</th>\n",
              "      <td>0.307776</td>\n",
              "      <td>0.004655</td>\n",
              "    </tr>\n",
              "    <tr>\n",
              "      <th>GradientBoostingClassifier</th>\n",
              "      <td>0.551721</td>\n",
              "      <td>0.011260</td>\n",
              "    </tr>\n",
              "    <tr>\n",
              "      <th>KNeighborsClassifier</th>\n",
              "      <td>0.459462</td>\n",
              "      <td>0.011633</td>\n",
              "    </tr>\n",
              "    <tr>\n",
              "      <th>LinearSVC</th>\n",
              "      <td>0.638841</td>\n",
              "      <td>0.018735</td>\n",
              "    </tr>\n",
              "    <tr>\n",
              "      <th>LogisticRegression</th>\n",
              "      <td>0.634809</td>\n",
              "      <td>0.011685</td>\n",
              "    </tr>\n",
              "    <tr>\n",
              "      <th>Perceptron</th>\n",
              "      <td>0.482770</td>\n",
              "      <td>0.048881</td>\n",
              "    </tr>\n",
              "    <tr>\n",
              "      <th>RandomForestClassifier</th>\n",
              "      <td>0.391603</td>\n",
              "      <td>0.017123</td>\n",
              "    </tr>\n",
              "    <tr>\n",
              "      <th>SGDClassifier</th>\n",
              "      <td>0.633340</td>\n",
              "      <td>0.015679</td>\n",
              "    </tr>\n",
              "  </tbody>\n",
              "</table>\n",
              "</div>\n",
              "      <button class=\"colab-df-convert\" onclick=\"convertToInteractive('df-e8deb574-8d1b-491a-8716-57d910e889da')\"\n",
              "              title=\"Convert this dataframe to an interactive table.\"\n",
              "              style=\"display:none;\">\n",
              "        \n",
              "  <svg xmlns=\"http://www.w3.org/2000/svg\" height=\"24px\"viewBox=\"0 0 24 24\"\n",
              "       width=\"24px\">\n",
              "    <path d=\"M0 0h24v24H0V0z\" fill=\"none\"/>\n",
              "    <path d=\"M18.56 5.44l.94 2.06.94-2.06 2.06-.94-2.06-.94-.94-2.06-.94 2.06-2.06.94zm-11 1L8.5 8.5l.94-2.06 2.06-.94-2.06-.94L8.5 2.5l-.94 2.06-2.06.94zm10 10l.94 2.06.94-2.06 2.06-.94-2.06-.94-.94-2.06-.94 2.06-2.06.94z\"/><path d=\"M17.41 7.96l-1.37-1.37c-.4-.4-.92-.59-1.43-.59-.52 0-1.04.2-1.43.59L10.3 9.45l-7.72 7.72c-.78.78-.78 2.05 0 2.83L4 21.41c.39.39.9.59 1.41.59.51 0 1.02-.2 1.41-.59l7.78-7.78 2.81-2.81c.8-.78.8-2.07 0-2.86zM5.41 20L4 18.59l7.72-7.72 1.47 1.35L5.41 20z\"/>\n",
              "  </svg>\n",
              "      </button>\n",
              "      \n",
              "  <style>\n",
              "    .colab-df-container {\n",
              "      display:flex;\n",
              "      flex-wrap:wrap;\n",
              "      gap: 12px;\n",
              "    }\n",
              "\n",
              "    .colab-df-convert {\n",
              "      background-color: #E8F0FE;\n",
              "      border: none;\n",
              "      border-radius: 50%;\n",
              "      cursor: pointer;\n",
              "      display: none;\n",
              "      fill: #1967D2;\n",
              "      height: 32px;\n",
              "      padding: 0 0 0 0;\n",
              "      width: 32px;\n",
              "    }\n",
              "\n",
              "    .colab-df-convert:hover {\n",
              "      background-color: #E2EBFA;\n",
              "      box-shadow: 0px 1px 2px rgba(60, 64, 67, 0.3), 0px 1px 3px 1px rgba(60, 64, 67, 0.15);\n",
              "      fill: #174EA6;\n",
              "    }\n",
              "\n",
              "    [theme=dark] .colab-df-convert {\n",
              "      background-color: #3B4455;\n",
              "      fill: #D2E3FC;\n",
              "    }\n",
              "\n",
              "    [theme=dark] .colab-df-convert:hover {\n",
              "      background-color: #434B5C;\n",
              "      box-shadow: 0px 1px 3px 1px rgba(0, 0, 0, 0.15);\n",
              "      filter: drop-shadow(0px 1px 2px rgba(0, 0, 0, 0.3));\n",
              "      fill: #FFFFFF;\n",
              "    }\n",
              "  </style>\n",
              "\n",
              "      <script>\n",
              "        const buttonEl =\n",
              "          document.querySelector('#df-e8deb574-8d1b-491a-8716-57d910e889da button.colab-df-convert');\n",
              "        buttonEl.style.display =\n",
              "          google.colab.kernel.accessAllowed ? 'block' : 'none';\n",
              "\n",
              "        async function convertToInteractive(key) {\n",
              "          const element = document.querySelector('#df-e8deb574-8d1b-491a-8716-57d910e889da');\n",
              "          const dataTable =\n",
              "            await google.colab.kernel.invokeFunction('convertToInteractive',\n",
              "                                                     [key], {});\n",
              "          if (!dataTable) return;\n",
              "\n",
              "          const docLinkHtml = 'Like what you see? Visit the ' +\n",
              "            '<a target=\"_blank\" href=https://colab.research.google.com/notebooks/data_table.ipynb>data table notebook</a>'\n",
              "            + ' to learn more about interactive tables.';\n",
              "          element.innerHTML = '';\n",
              "          dataTable['output_type'] = 'display_data';\n",
              "          await google.colab.output.renderOutput(dataTable, element);\n",
              "          const docLink = document.createElement('div');\n",
              "          docLink.innerHTML = docLinkHtml;\n",
              "          element.appendChild(docLink);\n",
              "        }\n",
              "      </script>\n",
              "    </div>\n",
              "  </div>\n",
              "  "
            ]
          },
          "metadata": {},
          "execution_count": 10
        }
      ]
    },
    {
      "cell_type": "markdown",
      "source": [
        "## Hyperparameter search"
      ],
      "metadata": {
        "id": "cxDruhfSmDmV"
      }
    },
    {
      "cell_type": "markdown",
      "source": [
        "Random Forest"
      ],
      "metadata": {
        "id": "e7tgjZmzo0Us"
      }
    },
    {
      "cell_type": "code",
      "source": [
        "model = RandomForestClassifier()\n",
        "params = {'n_estimators': [90, 100, 120], \n",
        "          'max_depth': [3,5,7],\n",
        "          'max_features': [9,10, 12, 14],\n",
        "          'min_samples_split': [7,8,9]}"
      ],
      "metadata": {
        "id": "jsp0TlvhogKm"
      },
      "execution_count": null,
      "outputs": []
    },
    {
      "cell_type": "code",
      "source": [
        "model_gs = GridSearchCV(model, params, cv=5, n_jobs=-1, verbose=2).fit(X_train, y_train)"
      ],
      "metadata": {
        "colab": {
          "base_uri": "https://localhost:8080/"
        },
        "id": "RUsb2UzSogMy",
        "outputId": "117b3f40-42b2-4948-c945-3092a29ba50e"
      },
      "execution_count": null,
      "outputs": [
        {
          "output_type": "stream",
          "name": "stdout",
          "text": [
            "Fitting 5 folds for each of 108 candidates, totalling 540 fits\n"
          ]
        }
      ]
    },
    {
      "cell_type": "code",
      "execution_count": null,
      "metadata": {
        "colab": {
          "base_uri": "https://localhost:8080/"
        },
        "id": "8qzdusMkI0om",
        "outputId": "6d7d1357-44ad-4bb0-fb85-01a42f5ab8aa"
      },
      "outputs": [
        {
          "output_type": "execute_result",
          "data": {
            "text/plain": [
              "{'max_depth': 7,\n",
              " 'max_features': 14,\n",
              " 'min_samples_split': 9,\n",
              " 'n_estimators': 90}"
            ]
          },
          "metadata": {},
          "execution_count": 17
        }
      ],
      "source": [
        "model_gs.best_params_"
      ]
    },
    {
      "cell_type": "code",
      "execution_count": null,
      "metadata": {
        "id": "29Uj4fB6JBHb"
      },
      "outputs": [],
      "source": [
        "model = RandomForestClassifier(max_depth= 7,\n",
        " max_features= 10,\n",
        " min_samples_split= 8,\n",
        " n_estimators= 100).fit(X_train, y_train)"
      ]
    },
    {
      "cell_type": "code",
      "execution_count": null,
      "metadata": {
        "colab": {
          "base_uri": "https://localhost:8080/"
        },
        "id": "F6lnEZj-JFo2",
        "outputId": "ccdf5356-e548-4b69-8893-82b119e7f68b"
      },
      "outputs": [
        {
          "output_type": "execute_result",
          "data": {
            "text/plain": [
              "array([[  0,   2,   7,   0,   0,   0],\n",
              "       [  0,  87,   3,   4,   0,   0],\n",
              "       [  0, 127,  11,   0,   0,   0],\n",
              "       [  0,  24,   0,  41,   0,   0],\n",
              "       [  0,  67,   1,   4,   9,   0],\n",
              "       [  0,  85,   2,   8,   0,  18]])"
            ]
          },
          "metadata": {},
          "execution_count": 19
        }
      ],
      "source": [
        "y_pred = model.predict(X_test)\n",
        "confusion_matrix(y_test, y_pred)"
      ]
    },
    {
      "cell_type": "markdown",
      "metadata": {
        "id": "JGZYJUjfSxE3"
      },
      "source": [
        "LinearSVC"
      ]
    },
    {
      "cell_type": "code",
      "execution_count": null,
      "metadata": {
        "id": "0vmz3PCKSv7T"
      },
      "outputs": [],
      "source": [
        "model = LinearSVC()\n",
        "params = {'penalty': ['l1', 'l2'],\n",
        "          'loss': [ 'squared_hinge'],\n",
        "          'tol': [1e-3, 1e-4],\n",
        "          'C': [0.35, 0.5, 0.7],\n",
        "          'multi_class': ['ovr', 'crammer_singer'],\n",
        "          'max_iter': [90, 100, 110]}\n",
        "model_gs = GridSearchCV(model, params, cv=5, n_jobs=-1, verbose=2).fit(X_train, y_train)"
      ]
    },
    {
      "cell_type": "code",
      "execution_count": null,
      "metadata": {
        "colab": {
          "base_uri": "https://localhost:8080/"
        },
        "id": "4OilYJ7rWRPL",
        "outputId": "451d52dc-60c6-4003-d248-f8fba15dedb1"
      },
      "outputs": [
        {
          "output_type": "execute_result",
          "data": {
            "text/plain": [
              "{'C': 0.35,\n",
              " 'loss': 'squared_hinge',\n",
              " 'max_iter': 100,\n",
              " 'multi_class': 'crammer_singer',\n",
              " 'penalty': 'l2',\n",
              " 'tol': 0.001}"
            ]
          },
          "metadata": {},
          "execution_count": 23
        }
      ],
      "source": [
        "model_gs.best_params_"
      ]
    },
    {
      "cell_type": "markdown",
      "metadata": {
        "id": "bmMbMb8FJfSY"
      },
      "source": [
        "XGBoost Classifier"
      ]
    },
    {
      "cell_type": "code",
      "execution_count": null,
      "metadata": {
        "id": "ZWN-j4MhJFuQ"
      },
      "outputs": [],
      "source": [
        "model = GradientBoostingClassifier()\n",
        "params = {'n_estimators': [50, 100, 300], \n",
        "          'subsample': [0.5, 0.8, 1],\n",
        "          'max_depth': [3,5,7],\n",
        "          'learning_rate': [0.1, 0.01, 0.3]}"
      ]
    },
    {
      "cell_type": "code",
      "execution_count": null,
      "metadata": {
        "colab": {
          "background_save": true,
          "base_uri": "https://localhost:8080/"
        },
        "id": "YmgRzjj0JFxU",
        "outputId": "c44dedaf-8151-41f2-bd5a-e2c53b281a90"
      },
      "outputs": [
        {
          "name": "stdout",
          "output_type": "stream",
          "text": [
            "Fitting 3 folds for each of 81 candidates, totalling 243 fits\n"
          ]
        }
      ],
      "source": [
        "model_gs = GridSearchCV(model, params, cv=3, n_jobs=-1, verbose=2).fit(X_train, y_train)"
      ]
    },
    {
      "cell_type": "code",
      "execution_count": null,
      "metadata": {
        "id": "AQHrZbdzJFzl"
      },
      "outputs": [],
      "source": [
        "model_gs.best_params_"
      ]
    },
    {
      "cell_type": "markdown",
      "metadata": {
        "id": "jY3xxrndW6S5"
      },
      "source": [
        "SGDClassifier"
      ]
    },
    {
      "cell_type": "code",
      "execution_count": null,
      "metadata": {
        "id": "gQ43UbFaK00J",
        "colab": {
          "base_uri": "https://localhost:8080/"
        },
        "outputId": "149c3c5c-b809-48e6-8efc-720b2bb9a540"
      },
      "outputs": [
        {
          "output_type": "stream",
          "name": "stdout",
          "text": [
            "Fitting 3 folds for each of 288 candidates, totalling 864 fits\n"
          ]
        }
      ],
      "source": [
        "model = SGDClassifier()\n",
        "params = {'loss': ['hinge'], \n",
        "          'penalty': ['l2'], \n",
        "          'alpha': [0.001, 0.0001], \n",
        "          'l1_ratio': [0.05, 0.15], \n",
        "          'max_iter': [600, 1000], \n",
        "          'tol': [0.01, 0.001], \n",
        "          'epsilon':[0.01, 0.1, 0.7], \n",
        "          'validation_fraction':[0.1, 0.2], \n",
        "          'n_iter_no_change': [2, 5, 8]}\n",
        "model_gs = GridSearchCV(model, params, cv=3, n_jobs=-1, verbose=2).fit(X_train, y_train)"
      ]
    },
    {
      "cell_type": "code",
      "execution_count": null,
      "metadata": {
        "id": "0F_lAXeyKy4K",
        "colab": {
          "base_uri": "https://localhost:8080/"
        },
        "outputId": "079aec90-0ba6-4204-ac8c-7fc42bcb6c4c"
      },
      "outputs": [
        {
          "output_type": "execute_result",
          "data": {
            "text/plain": [
              "{'alpha': 0.001,\n",
              " 'epsilon': 0.01,\n",
              " 'l1_ratio': 0.15,\n",
              " 'loss': 'hinge',\n",
              " 'max_iter': 1000,\n",
              " 'n_iter_no_change': 8,\n",
              " 'penalty': 'l2',\n",
              " 'tol': 0.001,\n",
              " 'validation_fraction': 0.2}"
            ]
          },
          "metadata": {},
          "execution_count": 10
        }
      ],
      "source": [
        "model_gs.best_params_"
      ]
    },
    {
      "cell_type": "markdown",
      "source": [
        "Perceptron"
      ],
      "metadata": {
        "id": "iKaZxBDc1a7-"
      }
    },
    {
      "cell_type": "code",
      "source": [
        "model = Perceptron()\n",
        "params = {'penalty': ['l2', 'l1', 'elasticnet'], \n",
        "          'alpha': [0.01, 0.001, 0.0001], \n",
        "          'l1_ratio': [0.05, 0.15], \n",
        "          'max_iter': [800, 1000, 1200], \n",
        "          'tol': [0.01, 0.001, 0.0001], \n",
        "          'validation_fraction':[0.1, 0.2], \n",
        "          'n_iter_no_change': [2, 5, 8]}\n",
        "model_gs = GridSearchCV(model, params, cv=3, n_jobs=-1, verbose=2).fit(X_train, y_train)"
      ],
      "metadata": {
        "colab": {
          "base_uri": "https://localhost:8080/"
        },
        "id": "LZ2Y9TQd1aEK",
        "outputId": "e54715e8-f0c9-4042-b107-4c354460af26"
      },
      "execution_count": null,
      "outputs": [
        {
          "output_type": "stream",
          "name": "stdout",
          "text": [
            "Fitting 3 folds for each of 972 candidates, totalling 2916 fits\n"
          ]
        }
      ]
    },
    {
      "cell_type": "code",
      "source": [
        "model_gs.best_params_"
      ],
      "metadata": {
        "colab": {
          "base_uri": "https://localhost:8080/"
        },
        "id": "zyVl_ekT1aHZ",
        "outputId": "bdc87d45-8bc5-4c26-b05c-ee3ea2ab8341"
      },
      "execution_count": null,
      "outputs": [
        {
          "output_type": "execute_result",
          "data": {
            "text/plain": [
              "{'alpha': 0.0001,\n",
              " 'l1_ratio': 0.05,\n",
              " 'max_iter': 800,\n",
              " 'n_iter_no_change': 2,\n",
              " 'penalty': 'elasticnet',\n",
              " 'tol': 0.01,\n",
              " 'validation_fraction': 0.1}"
            ]
          },
          "metadata": {},
          "execution_count": 20
        }
      ]
    },
    {
      "cell_type": "markdown",
      "source": [
        "Logistic Regression"
      ],
      "metadata": {
        "id": "-fGsIpi64JQK"
      }
    },
    {
      "cell_type": "code",
      "execution_count": null,
      "metadata": {
        "id": "rfZoNY-jKy-d"
      },
      "outputs": [],
      "source": [
        "from sklearn.linear_model import LogisticRegression\n",
        "from sklearn.model_selection import GridSearchCV\n",
        "from sklearn.metrics import make_scorer, accuracy_score\n",
        "\n",
        "# Define the hyperparameter grid to search over\n",
        "params = {'C': [0.1, 1, 10], 'solver': ['newton-cg', 'lbfgs', 'liblinear', 'sag', 'saga']}\n",
        "\n",
        "# Instantiate a logistic regression classifier\n",
        "model = LogisticRegression(random_state=42)\n",
        "\n",
        "# Perform grid search to find the best hyperparameters\n",
        "model_gs = GridSearchCV(model, params, scoring=make_scorer(accuracy_score), cv=5).fit(X_train, y_train)\n",
        "\n",
        "# Output the best hyperparameters and corresponding score\n",
        "print(\"Best hyperparameters: \", model_gs.best_params_)\n",
        "print(\"Best score: \", model_gs.best_score_)\n"
      ]
    }
  ]
}